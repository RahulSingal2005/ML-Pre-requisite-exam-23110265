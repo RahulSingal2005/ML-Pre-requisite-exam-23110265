{
  "nbformat": 4,
  "nbformat_minor": 0,
  "metadata": {
    "colab": {
      "provenance": []
    },
    "kernelspec": {
      "name": "python3",
      "display_name": "Python 3"
    },
    "language_info": {
      "name": "python"
    }
  },
  "cells": [
    {
      "cell_type": "markdown",
      "source": [
        "\n",
        "\n",
        "---\n",
        "\n"
      ],
      "metadata": {
        "id": "EA1qKDWo0rJZ"
      }
    },
    {
      "cell_type": "markdown",
      "source": [
        "Ans. 1)\n",
        "\n",
        "Multiplying a (n X k) matrix, lets name matrix P with a (k X m) matrix, lets name Q, will give us a (n X m) matrix, lets name R.\n",
        "\n",
        "So R has (m*n) entries, and each entry is calculated by multiplying corresponding entries from a row of matrix P to a column of matrix Q, i.e, multiplying k entries from P to k entries from Q and adding them all gives us the corresponding entry in R.\n",
        "\n",
        "Thus, for each entry in R we multiply k pairs and add k elements (Note: here we add k elements but perform the addition operation k-1 times). Thus, for entire matrix R, #**we perform mn*(k) multiplication and mn*(k-1) addition operations.**"
      ],
      "metadata": {
        "id": "Zbc0dhQsw6nl"
      }
    },
    {
      "cell_type": "markdown",
      "source": [
        "\n",
        "\n",
        "---\n",
        "\n"
      ],
      "metadata": {
        "id": "uwOQwQcuxdFN"
      }
    },
    {
      "cell_type": "markdown",
      "source": [
        "Ans. 2)"
      ],
      "metadata": {
        "id": "GJ6p4bTLxtSM"
      }
    },
    {
      "cell_type": "code",
      "source": [
        "# Common for both the ways:(Using list of lists or using numpy)\n",
        "\n",
        "n = int(input(\"Enter the value of n: \"))\n",
        "k = int(input(\"Enter the value of k: \"))\n",
        "m = int(input(\"Enter the value of m: \"))\n",
        "print (\"enter the rows of first matrix, each element of the row being space separated and each row beginning from a new line of input\")\n",
        "P = []\n",
        "for i in range (n):\n",
        "  nj = list(map(int,input().split()))\n",
        "  P.append(nj)\n",
        "Q = []\n",
        "print (\"enter the rows of second matrix, each element of the row being space separated and each row beginning from a new line of input\")\n",
        "for i in range (k):\n",
        "  kj = list(map(int,input().split()))\n",
        "  Q.append(kj)"
      ],
      "metadata": {
        "colab": {
          "base_uri": "https://localhost:8080/"
        },
        "id": "fyOuILw1RDVl",
        "outputId": "32fb0741-f2e4-44d6-974b-855442db707d"
      },
      "execution_count": 10,
      "outputs": [
        {
          "name": "stdout",
          "output_type": "stream",
          "text": [
            "Enter the value of n: 3\n",
            "Enter the value of k: 4\n",
            "Enter the value of m: 2\n",
            "enter the rows of first matrix, each element of the row being space separated and each row beginning from a new line of input\n",
            "7 8 4 2\n",
            "6 3 2 3\n",
            "5 2 5 7\n",
            "enter the rows of second matrix, each element of the row being space separated and each row beginning from a new line of input\n",
            "6 9\n",
            "4 3\n",
            "6 6\n",
            "4 8\n"
          ]
        }
      ]
    },
    {
      "cell_type": "code",
      "execution_count": 27,
      "metadata": {
        "colab": {
          "base_uri": "https://localhost:8080/"
        },
        "id": "FG7pT17Pu3WS",
        "outputId": "50cf7006-a295-40e1-bb81-84322b4e7e5c"
      },
      "outputs": [
        {
          "output_type": "stream",
          "name": "stdout",
          "text": [
            "[[106, 127], [72, 99], [96, 137]]\n",
            "--- 0.0023026466369628906 seconds ---\n"
          ]
        }
      ],
      "source": [
        "# Using list of lists\n",
        "\n",
        "import time\n",
        "start_time = time.time()\n",
        "\n",
        "R = []\n",
        "for a in range (n):\n",
        "  row = []\n",
        "  for b in range (m):\n",
        "    sum = 0\n",
        "    for c in range (k):\n",
        "      sum += (P[a][c])*(Q[c][b])\n",
        "    row.append(sum)\n",
        "  R.append(row)\n",
        "print (R)\n",
        "print(\"--- %s seconds ---\" % (time.time() - start_time))"
      ]
    },
    {
      "cell_type": "code",
      "source": [
        "# Using numpy\n",
        "\n",
        "import numpy as np\n",
        "P = np.array(P)\n",
        "Q = np.array(Q)\n",
        "\n",
        "import time\n",
        "start_time = time.time()\n",
        "\n",
        "R = np.dot(P,Q)\n",
        "print (R)\n",
        "print(\"--- %s seconds ---\" % (time.time() - start_time))"
      ],
      "metadata": {
        "colab": {
          "base_uri": "https://localhost:8080/"
        },
        "id": "Tkl2VXg7RW53",
        "outputId": "0f3b1ca5-f6ea-425f-903c-95b89576d87a"
      },
      "execution_count": 14,
      "outputs": [
        {
          "output_type": "stream",
          "name": "stdout",
          "text": [
            "[[106 127]\n",
            " [ 72  99]\n",
            " [ 96 137]]\n",
            "--- 0.0008654594421386719 seconds ---\n"
          ]
        }
      ]
    },
    {
      "cell_type": "markdown",
      "source": [
        "The code written using numpy works faster, because here, broadcasting comes into the picture which is later explained. Numpy vectorises the array, and then computes the dot product in C instead of numpy, thus improving the runtime."
      ],
      "metadata": {
        "id": "wLV1RUybS4qK"
      }
    },
    {
      "cell_type": "markdown",
      "source": [
        "\n",
        "\n",
        "---\n",
        "\n"
      ],
      "metadata": {
        "id": "uGi1W0d_br_P"
      }
    },
    {
      "cell_type": "markdown",
      "source": [
        "Ans 3)\n",
        "\n",
        "Let's say the length of the list = n.\n",
        "\n",
        "If n is even then median is the average of n/2th highest term and ((n/2) + 1)th highest term which will require n/2 + 1 passes of the array. Elif n is odd, median is the ((n+1)/2)th highest term and hence require ((n+1)/2) passes of the array. This happens if we go by the first method and hence time complexity is $$O(n^2)$$.\n",
        "\n"
      ],
      "metadata": {
        "id": "d9EFhqqVbthb"
      }
    },
    {
      "cell_type": "markdown",
      "source": [
        "An alternate method can be creating quicksorting the given array and then directly computing the median, hence which works on a time complexity of O(nlogn)"
      ],
      "metadata": {
        "id": "AiXb8mBUvLy5"
      }
    },
    {
      "cell_type": "code",
      "source": [
        "#  Going by the method mentioned in the problem statement\n",
        "n = int(input(\"Enter the length of the array: \"))\n",
        "arr = list(map(int,input().split()))\n",
        "\n",
        "import time\n",
        "start_time = time.time()\n",
        "\n",
        "if n%2:\n",
        "  r = (n+1)//2\n",
        "  for i in range (r):\n",
        "    med = -1000000\n",
        "    for j in range (n):\n",
        "      if arr[j] > med:\n",
        "        med = arr[j]\n",
        "    if i<r-1:\n",
        "      arr[arr.index(med)] = -1000000\n",
        "  print (\"The median of the given list is:\",med)\n",
        "\n",
        "else:\n",
        "  r = n//2 + 1\n",
        "  for i in range (r):\n",
        "    med = -1000000\n",
        "    for j in range (n):\n",
        "      if arr[j] > med:\n",
        "        med = arr[j]\n",
        "    if i<r-2:\n",
        "      arr[arr.index(med)] = -1000000\n",
        "    elif i==r-2:\n",
        "      m1 = med\n",
        "      arr[arr.index(med)] = -1000000\n",
        "    else:\n",
        "      m2 = med\n",
        "  med = (m1+m2)/2\n",
        "  print (\"The median of the given list is:\",med)\n",
        "\n",
        "print(\"--- %s seconds ---\" % (time.time() - start_time))"
      ],
      "metadata": {
        "colab": {
          "base_uri": "https://localhost:8080/"
        },
        "id": "UoOH_HnMvLb-",
        "outputId": "731a99e0-117e-4ae0-c830-e80380b8e7c2"
      },
      "execution_count": null,
      "outputs": [
        {
          "output_type": "stream",
          "name": "stdout",
          "text": [
            "Enter the length of the array: 62\n",
            "3 4 8 2 3 57 0 21 35 3446 884 1346 458 303 5456 213 423 56442 4535 345 2344 5234 5133 351 513 51 531 534 1 5135 542 52 45344 523 5 5 235 35 3245 35 2234 55 33 5 4535 53 523 3255 345 345 255 35555 533 534 553 45345 3453 53 453 5345 3 53\n",
            "The median of the given list is: 387.0\n",
            "--- 0.002388477325439453 seconds ---\n"
          ]
        }
      ]
    },
    {
      "cell_type": "code",
      "source": [
        "#  Using the quicksort method\n",
        "n = int(input(\"Enter the length of the array: \"))\n",
        "arr = list(map(int,input().split()))\n",
        "\n",
        "import time\n",
        "start_time = time.time()\n",
        "\n",
        "def partition(arr1,start,end):\n",
        "    pivot = arr1[start]\n",
        "    i = start+1\n",
        "    j = end\n",
        "    while i<=j:\n",
        "        while i<=end and arr1[i] < pivot:\n",
        "            i += 1\n",
        "        while j>=start and arr1[j] > pivot:\n",
        "            j -= 1\n",
        "        if i<=j:\n",
        "            arr1[i], arr1[j] = arr1[j], arr1[i]\n",
        "            i += 1\n",
        "            j -= 1\n",
        "    if i<=end:\n",
        "        arr1[i-1] , arr1[start] = arr1[start] , arr1[i-1]\n",
        "        return i-1\n",
        "    else:\n",
        "        arr1[end] , arr1[start] = arr1[start] , arr1[end]\n",
        "        return end\n",
        "\n",
        "\n",
        "def quick_sort(arr,start,end):\n",
        "    if end <= start:\n",
        "        return\n",
        "    index = partition(arr,start,end)\n",
        "    quick_sort(arr,start,index-1)\n",
        "    quick_sort(arr,index+1,end)\n",
        "\n",
        "\n",
        "quick_sort(arr,0,n-1)\n",
        "if n%2:\n",
        "  med = arr[(n-1)//2]\n",
        "else:\n",
        "  med = (arr[(n//2) - 1] + arr[(n//2)])/2\n",
        "print (\"The median is:\",med)\n",
        "print(\"--- %s seconds ---\" % (time.time() - start_time))"
      ],
      "metadata": {
        "colab": {
          "base_uri": "https://localhost:8080/"
        },
        "id": "WTY9Goj911A2",
        "outputId": "fcf89d8e-ed2a-424d-994a-5068f8b78729"
      },
      "execution_count": null,
      "outputs": [
        {
          "output_type": "stream",
          "name": "stdout",
          "text": [
            "Enter the length of the array: 62\n",
            "3 4 8 2 3 57 0 21 35 3446 884 1346 458 303 5456 213 423 56442 4535 345 2344 5234 5133 351 513 51 531 534 1 5135 542 52 45344 523 5 5 235 35 3245 35 2234 55 33 5 4535 53 523 3255 345 345 255 35555 533 534 553 45345 3453 53 453 5345 3 53\n",
            "The median is: 387.0\n",
            "--- 0.001840829849243164 seconds ---\n"
          ]
        }
      ]
    },
    {
      "cell_type": "code",
      "source": [
        "# Using numpy.median\n",
        "n = int(input(\"Enter the length of the array: \"))\n",
        "arr = list(map(int,input().split()))\n",
        "\n",
        "import time\n",
        "start_time = time.time()\n",
        "\n",
        "import numpy as np\n",
        "print (\"The median is:\",np.median(arr))\n",
        "print(\"--- %s seconds ---\" % (time.time() - start_time))"
      ],
      "metadata": {
        "colab": {
          "base_uri": "https://localhost:8080/"
        },
        "id": "db9kxHNH6dVY",
        "outputId": "84da3aaf-8310-47e9-eb1c-dd24613ea144"
      },
      "execution_count": null,
      "outputs": [
        {
          "output_type": "stream",
          "name": "stdout",
          "text": [
            "Enter the length of the array: 62\n",
            "3 4 8 2 3 57 0 21 35 3446 884 1346 458 303 5456 213 423 56442 4535 345 2344 5234 5133 351 513 51 531 534 1 5135 542 52 45344 523 5 5 235 35 3245 35 2234 55 33 5 4535 53 523 3255 345 345 255 35555 533 534 553 45345 3453 53 453 5345 3 53\n",
            "The median is: 387.0\n",
            "--- 0.0005586147308349609 seconds ---\n"
          ]
        }
      ]
    },
    {
      "cell_type": "markdown",
      "source": [
        "I used the time library to calculate the runtime of all 3.So, we find the traditional method takes the most and a lot more time compared to the other two methods. Followed by quicksort method takes somewhat less time then the traditional method. And at last, the numpy.median is the most efficient way and it has the least runtime. Here, using mergesort won't work as mergesort includes creation of new lists, which itself take a significant amount of though constant time."
      ],
      "metadata": {
        "id": "NsVCtZ6X_TA7"
      }
    },
    {
      "cell_type": "markdown",
      "source": [
        "\n",
        "\n",
        "---\n",
        "\n"
      ],
      "metadata": {
        "id": "dUE-q0P8kXVl"
      }
    },
    {
      "cell_type": "markdown",
      "source": [
        "Ans 4)\n",
        "\n",
        "Gradient with respect to x: $$2xy + y^3cos(x)$$\n",
        "\n",
        "Gradient with respect to y: $$x^2 + 3y^2sin(x)$$"
      ],
      "metadata": {
        "id": "G7fcOKG8jJCA"
      }
    },
    {
      "cell_type": "markdown",
      "source": [
        "\n",
        "\n",
        "---\n",
        "\n"
      ],
      "metadata": {
        "id": "yZvIUkUwkT9y"
      }
    },
    {
      "cell_type": "markdown",
      "source": [
        "Ans 5)"
      ],
      "metadata": {
        "id": "yLMHIoXdkpWh"
      }
    },
    {
      "cell_type": "code",
      "source": [
        "# AN UNSUCCESSFUL ATTEMPT\n",
        "\n",
        "import jax.numpy as jnp\n",
        "from jax import grad\n",
        "import math\n",
        "\n",
        "def f(x,y):\n",
        "  return (x**2)*y + (y**3)*(math.sin(x))\n",
        "\n",
        "# pi = math.pi\n",
        "x1 = 0.0\n",
        "y1 = 3.0\n",
        "# df_dx = jnp.gradient(f(x1,y1), argnums = 0)\n",
        "# df_dxy = grad(f,argnums = (0,1))\n",
        "# df_dx = grad(f, argnums = 0)\n",
        "# df_dy = grad(f, argnums = 1)\n",
        "\n",
        "# assert df_dxy(x1, y1) == (df_dx(x1, y1), df_dy(x1, y1))\n",
        "# print(df_dx)\n",
        "# print (df_dx(x1,y1),df_dy(x1,y1))"
      ],
      "metadata": {
        "id": "PiUDAdNuCA-N"
      },
      "execution_count": 8,
      "outputs": []
    },
    {
      "cell_type": "markdown",
      "source": [
        "\n",
        "\n",
        "---\n",
        "\n"
      ],
      "metadata": {
        "id": "J_uojU6p03QR"
      }
    },
    {
      "cell_type": "markdown",
      "source": [
        "Ans 6)"
      ],
      "metadata": {
        "id": "VSpPfoxH036_"
      }
    },
    {
      "cell_type": "code",
      "source": [
        "import sympy as sp\n",
        "\n",
        "x,y = sp.symbols('x y')\n",
        "def gradient(f):\n",
        "    return [f.diff(x), f.diff(y)]\n",
        "f = (x**2)*y + (y**3)*(sp.sin(x))\n",
        "df_dx = gradient(f)[0]\n",
        "df_dy = gradient(f)[1]\n",
        "print (\"Partial Derivative of given funcn f with respect to x is:\",df_dx)\n",
        "print (\"Partial Derivative of given funcn f with respect to y is:\",df_dy)"
      ],
      "metadata": {
        "colab": {
          "base_uri": "https://localhost:8080/"
        },
        "id": "A2a0nr7HYWqZ",
        "outputId": "aabb49fc-c1e4-40d5-b3eb-e4bdd5cc7cfe"
      },
      "execution_count": 6,
      "outputs": [
        {
          "output_type": "stream",
          "name": "stdout",
          "text": [
            "Partial Derivative of given funcn f with respect to x is: 2*x*y + y**3*cos(x)\n",
            "Partial Derivative of given funcn f with respect to y is: x**2 + 3*y**2*sin(x)\n"
          ]
        }
      ]
    },
    {
      "cell_type": "markdown",
      "source": [
        "Here, I get the exactly same partial derivatives of the funcn both calculated manually, and that through using sympy."
      ],
      "metadata": {
        "id": "cOARc-a3bNed"
      }
    },
    {
      "cell_type": "markdown",
      "source": [
        "\n",
        "\n",
        "---\n",
        "\n"
      ],
      "metadata": {
        "id": "b41Dfc-305-E"
      }
    },
    {
      "cell_type": "markdown",
      "source": [
        "Ans 7)"
      ],
      "metadata": {
        "id": "WqJy3s630668"
      }
    },
    {
      "cell_type": "code",
      "source": [
        "# For the sake of simplicity, I have considered only 2 branches, and 3 students in each branch. Also I have kept the marks of everyone the same but can be altered by manually or taking the user input.\n",
        "\n",
        "marks_yr_b_rn = {'Maths':100 ,'English': 70, 'Physics': 85, 'Chemistry': 92}\n",
        "\n",
        "database = {}\n",
        "\n",
        "year_2022 = {'2022': {'Branch1':{'Roll_no_1':{'Name': 'Rahul','Marks':marks_yr_b_rn} , 'Roll_no_2':{'Name': 'Bhairav','Marks':marks_yr_b_rn} , 'Roll_no_3':{'Name': 'Kavya','Marks':marks_yr_b_rn}} , 'Branch2':{'Roll_no_1':{'Name': 'Tanuj' , 'Marks': marks_yr_b_rn} , 'Roll_no_2':{'Name': 'Prince' , 'Marks': marks_yr_b_rn} , 'Roll_no_3':{'Name': 'Suhani' , 'Marks': marks_yr_b_rn}}}}\n",
        "year_2023 = {'2023': {'Branch1':{'Roll_no_1':{'Name': 'Mahesh','Marks':marks_yr_b_rn} , 'Roll_no_2':{'Name': 'Priya','Marks':marks_yr_b_rn} , 'Roll_no_3':{'Name': 'Ajay','Marks':marks_yr_b_rn}} , 'Branch2':{'Roll_no_1':{'Name': 'Jagdish' , 'Marks': marks_yr_b_rn} , 'Roll_no_2':{'Name': 'Sourabh' , 'Marks': marks_yr_b_rn} , 'Roll_no_3':{'Name': 'Himanshu' , 'Marks': marks_yr_b_rn}}}}\n",
        "year_2024 = {'2024': {'Branch1':{'Roll_no_1':{'Name': 'Shantanu','Marks':marks_yr_b_rn} , 'Roll_no_2':{'Name': 'Nisha','Marks':marks_yr_b_rn} , 'Roll_no_3':{'Name': 'Aamir','Marks':marks_yr_b_rn}} , 'Branch2':{'Roll_no_1':{'Name': 'Kamal' , 'Marks': marks_yr_b_rn} , 'Roll_no_2':{'Name': 'Vikas' , 'Marks': marks_yr_b_rn} , 'Roll_no_3':{'Name': 'Katrina' , 'Marks': marks_yr_b_rn}}}}\n",
        "year_2025 = {'2025': {'Branch1':{'Roll_no_1':{'Name': 'David','Marks':marks_yr_b_rn} , 'Roll_no_2':{'Name': 'Rajnikant','Marks':marks_yr_b_rn} , 'Roll_no_3':{'Name': 'Jasmine','Marks':marks_yr_b_rn}} , 'Branch2':{'Roll_no_1':{'Name': 'Pankaj' , 'Marks': marks_yr_b_rn} , 'Roll_no_2':{'Name': 'Garima' , 'Marks': marks_yr_b_rn} , 'Roll_no_3':{'Name': 'Vicky' , 'Marks': marks_yr_b_rn}}}}\n",
        "\n",
        "database = database | year_2022 | year_2023 | year_2024 | year_2025\n",
        "# print (database)"
      ],
      "metadata": {
        "id": "BldwaAQDHSa5"
      },
      "execution_count": null,
      "outputs": []
    },
    {
      "cell_type": "markdown",
      "source": [
        "\n",
        "\n",
        "---\n",
        "\n"
      ],
      "metadata": {
        "id": "iYuUvVJ51BBi"
      }
    },
    {
      "cell_type": "markdown",
      "source": [
        "# Ans 8) NOT DONE"
      ],
      "metadata": {
        "id": "TZJ9GuTP1Bwx"
      }
    },
    {
      "cell_type": "markdown",
      "source": [
        "\n",
        "\n",
        "---\n",
        "\n"
      ],
      "metadata": {
        "id": "ihgykXYI1G2j"
      }
    },
    {
      "cell_type": "markdown",
      "source": [
        "Ans 9)"
      ],
      "metadata": {
        "id": "Zr3FVu5O1H08"
      }
    },
    {
      "cell_type": "code",
      "source": [
        "import numpy as np\n",
        "import matplotlib.pyplot as plt\n",
        "import math\n",
        "\n",
        "# new_list = [i**2 for i in listA]\n",
        "\n",
        "x = np.arange(0.5,100.1,0.5)\n",
        "y1 = x\n",
        "y2 = [i**2 for i in x]\n",
        "y3 = [(i**3)/100 for i in x]\n",
        "y4 = [np.sin(i) for i in x]\n",
        "y5 = [(np.sin(i))/i for i in x]\n",
        "y6 = [(np.log10(i)) for i in x]\n",
        "y7 = [(np.exp(i)) for i in x]\n",
        "# print (y7)\n",
        "\n",
        "plt.figure(figsize = (18,10))\n",
        "plt.subplot(2, 4, 1)\n",
        "plt.plot(x,y1)\n",
        "plt.subplot(2, 4, 2)\n",
        "plt.plot(x,y2)\n",
        "plt.subplot(2,4,3)\n",
        "plt.plot(x,y3)\n",
        "plt.subplot(2,4,4)\n",
        "plt.plot(x,y4)\n",
        "plt.subplot(2,4,5)\n",
        "plt.plot(x,y5)\n",
        "plt.subplot(2,4,6)\n",
        "plt.plot(x,y6)\n",
        "plt.subplot(2,4,7)\n",
        "plt.plot(x,y7)\n",
        "\n",
        "plt.show()\n"
      ],
      "metadata": {
        "colab": {
          "base_uri": "https://localhost:8080/",
          "height": 805
        },
        "id": "uvncW970H9ct",
        "outputId": "184467a2-eb23-4ba9-a7cc-8870d85d145f"
      },
      "execution_count": 30,
      "outputs": [
        {
          "output_type": "display_data",
          "data": {
            "text/plain": [
              "<Figure size 1800x1000 with 7 Axes>"
            ],
            "image/png": "[encoded data removed]"
          },
          "metadata": {}
        }
      ]
    },
    {
      "cell_type": "markdown",
      "source": [
        "\n",
        "\n",
        "---\n",
        "\n"
      ],
      "metadata": {
        "id": "9HZf2fFd0hM1"
      }
    },
    {
      "cell_type": "markdown",
      "source": [
        "Ans 10)"
      ],
      "metadata": {
        "id": "IRjM0Zc_0jJ2"
      }
    },
    {
      "cell_type": "code",
      "source": [
        "import numpy as np\n",
        "\n",
        "matrix = np.random.uniform(1, 2, (20, 5))\n",
        "print (matrix)\n"
      ],
      "metadata": {
        "colab": {
          "base_uri": "https://localhost:8080/"
        },
        "id": "79dbEBWiTMrj",
        "outputId": "42c97f95-5c88-4357-de76-d5a019c7d167"
      },
      "execution_count": null,
      "outputs": [
        {
          "output_type": "stream",
          "name": "stdout",
          "text": [
            "[[1.81560957 1.96404538 1.16344254 1.21206244 1.7821366 ]\n",
            " [1.27981359 1.40981598 1.0318691  1.80664888 1.13310952]\n",
            " [1.56145746 1.56998013 1.6515143  1.97445661 1.97870089]\n",
            " [1.95921844 1.42625596 1.62303499 1.82452675 1.73434695]\n",
            " [1.38363505 1.00064533 1.90171852 1.33156339 1.71649451]\n",
            " [1.32459614 1.76139872 1.5011799  1.47234642 1.02064053]\n",
            " [1.27679606 1.24684298 1.29089807 1.94591425 1.38332165]\n",
            " [1.34300393 1.17126384 1.23093399 1.97379294 1.36422324]\n",
            " [1.82329488 1.9163113  1.61218195 1.24440564 1.44317234]\n",
            " [1.78188576 1.67593366 1.62999401 1.2885082  1.16058149]\n",
            " [1.70262913 1.13609374 1.04697602 1.25026794 1.74466672]\n",
            " [1.65127981 1.79637725 1.12615549 1.12268154 1.91093314]\n",
            " [1.40761468 1.4810605  1.38059928 1.72750492 1.92115374]\n",
            " [1.41076495 1.03780177 1.41082546 1.26715653 1.92425251]\n",
            " [1.32650995 1.39068662 1.41849812 1.36198672 1.49392353]\n",
            " [1.54448559 1.52600528 1.52154507 1.66017659 1.66334322]\n",
            " [1.14428822 1.92701264 1.25715136 1.83109136 1.17605226]\n",
            " [1.21426574 1.88610902 1.56069321 1.5411525  1.57626911]\n",
            " [1.93519104 1.35408108 1.27840677 1.25754296 1.23053203]\n",
            " [1.9717022  1.73238346 1.2793396  1.10795006 1.75107087]]\n"
          ]
        }
      ]
    },
    {
      "cell_type": "code",
      "source": [
        "import pandas as pd\n",
        "data_f = pd.DataFrame(matrix)\n",
        "data_f.rename(columns={0:'a',1:'b',2:'c',3:'d',4:'e'}, inplace=True)\n",
        "\n",
        "a_stddev = data_f['a'].std()\n",
        "b_stddev = data_f['b'].std()\n",
        "c_stddev = data_f['c'].std()\n",
        "d_stddev = data_f['d'].std()\n",
        "e_stddev = data_f['e'].std()\n",
        "\n",
        "print (data_f)\n",
        "\n",
        "data_f['Mean'] = data_f.mean(axis=1)\n",
        "\n",
        "x = [a_stddev,'a',b_stddev,'b',c_stddev,'c',d_stddev,'d',e_stddev,'e']\n",
        "max_std_dev_index = x.index(max(x[0::2]))\n",
        "print ('The column with the highest standard deviation is:','Column',x[max_std_dev_index+1],',with a standard deviation of',x[max_std_dev_index])\n",
        "\n",
        "row_num = data_f.index[data_f['Mean']==(data_f['Mean'].min())]\n",
        "\n",
        "print ('The row with lowest mean is:')\n",
        "display(data_f.iloc[row_num])\n",
        "\n",
        "data_f = data_f.drop('Mean', axis=1)"
      ],
      "metadata": {
        "colab": {
          "base_uri": "https://localhost:8080/",
          "height": 480
        },
        "id": "8dC-CFo7BVvS",
        "outputId": "f299e3cf-e31d-45fd-c9d2-1bb49b977e12"
      },
      "execution_count": null,
      "outputs": [
        {
          "output_type": "stream",
          "name": "stdout",
          "text": [
            "           a         b         c         d         e\n",
            "0   1.815610  1.964045  1.163443  1.212062  1.782137\n",
            "1   1.279814  1.409816  1.031869  1.806649  1.133110\n",
            "2   1.561457  1.569980  1.651514  1.974457  1.978701\n",
            "3   1.959218  1.426256  1.623035  1.824527  1.734347\n",
            "4   1.383635  1.000645  1.901719  1.331563  1.716495\n",
            "5   1.324596  1.761399  1.501180  1.472346  1.020641\n",
            "6   1.276796  1.246843  1.290898  1.945914  1.383322\n",
            "7   1.343004  1.171264  1.230934  1.973793  1.364223\n",
            "8   1.823295  1.916311  1.612182  1.244406  1.443172\n",
            "9   1.781886  1.675934  1.629994  1.288508  1.160581\n",
            "10  1.702629  1.136094  1.046976  1.250268  1.744667\n",
            "11  1.651280  1.796377  1.126155  1.122682  1.910933\n",
            "12  1.407615  1.481061  1.380599  1.727505  1.921154\n",
            "13  1.410765  1.037802  1.410825  1.267157  1.924253\n",
            "14  1.326510  1.390687  1.418498  1.361987  1.493924\n",
            "15  1.544486  1.526005  1.521545  1.660177  1.663343\n",
            "16  1.144288  1.927013  1.257151  1.831091  1.176052\n",
            "17  1.214266  1.886109  1.560693  1.541153  1.576269\n",
            "18  1.935191  1.354081  1.278407  1.257543  1.230532\n",
            "19  1.971702  1.732383  1.279340  1.107950  1.751071\n",
            "The column with the highest standard deviation is: Column b ,with a standard deviation of 0.3054848316827245\n",
            "The row with lowest mean is:\n"
          ]
        },
        {
          "output_type": "display_data",
          "data": {
            "text/plain": [
              "          a         b         c         d        e      Mean\n",
              "1  1.279814  1.409816  1.031869  1.806649  1.13311  1.332251"
            ],
            "text/html": [
              "\n",
              "  <div id=\"df-4cdd9138-f53c-4834-99cd-dbb7a2809481\" class=\"colab-df-container\">\n",
              "    <div>\n",
              "<style scoped>\n",
              "    .dataframe tbody tr th:only-of-type {\n",
              "        vertical-align: middle;\n",
              "    }\n",
              "\n",
              "    .dataframe tbody tr th {\n",
              "        vertical-align: top;\n",
              "    }\n",
              "\n",
              "    .dataframe thead th {\n",
              "        text-align: right;\n",
              "    }\n",
              "</style>\n",
              "<table border=\"1\" class=\"dataframe\">\n",
              "  <thead>\n",
              "    <tr style=\"text-align: right;\">\n",
              "      <th></th>\n",
              "      <th>a</th>\n",
              "      <th>b</th>\n",
              "      <th>c</th>\n",
              "      <th>d</th>\n",
              "      <th>e</th>\n",
              "      <th>Mean</th>\n",
              "    </tr>\n",
              "  </thead>\n",
              "  <tbody>\n",
              "    <tr>\n",
              "      <th>1</th>\n",
              "      <td>1.279814</td>\n",
              "      <td>1.409816</td>\n",
              "      <td>1.031869</td>\n",
              "      <td>1.806649</td>\n",
              "      <td>1.13311</td>\n",
              "      <td>1.332251</td>\n",
              "    </tr>\n",
              "  </tbody>\n",
              "</table>\n",
              "</div>\n",
              "    <div class=\"colab-df-buttons\">\n",
              "\n",
              "  <div class=\"colab-df-container\">\n",
              "    <button class=\"colab-df-convert\" onclick=\"convertToInteractive('df-4cdd9138-f53c-4834-99cd-dbb7a2809481')\"\n",
              "            title=\"Convert this dataframe to an interactive table.\"\n",
              "            style=\"display:none;\">\n",
              "\n",
              "  <svg xmlns=\"http://www.w3.org/2000/svg\" height=\"24px\" viewBox=\"0 -960 960 960\">\n",
              "    <path d=\"M120-120v-720h720v720H120Zm60-500h600v-160H180v160Zm220 220h160v-160H400v160Zm0 220h160v-160H400v160ZM180-400h160v-160H180v160Zm440 0h160v-160H620v160ZM180-180h160v-160H180v160Zm440 0h160v-160H620v160Z\"/>\n",
              "  </svg>\n",
              "    </button>\n",
              "\n",
              "  <style>\n",
              "    .colab-df-container {\n",
              "      display:flex;\n",
              "      gap: 12px;\n",
              "    }\n",
              "\n",
              "    .colab-df-convert {\n",
              "      background-color: #E8F0FE;\n",
              "      border: none;\n",
              "      border-radius: 50%;\n",
              "      cursor: pointer;\n",
              "      display: none;\n",
              "      fill: #1967D2;\n",
              "      height: 32px;\n",
              "      padding: 0 0 0 0;\n",
              "      width: 32px;\n",
              "    }\n",
              "\n",
              "    .colab-df-convert:hover {\n",
              "      background-color: #E2EBFA;\n",
              "      box-shadow: 0px 1px 2px rgba(60, 64, 67, 0.3), 0px 1px 3px 1px rgba(60, 64, 67, 0.15);\n",
              "      fill: #174EA6;\n",
              "    }\n",
              "\n",
              "    .colab-df-buttons div {\n",
              "      margin-bottom: 4px;\n",
              "    }\n",
              "\n",
              "    [theme=dark] .colab-df-convert {\n",
              "      background-color: #3B4455;\n",
              "      fill: #D2E3FC;\n",
              "    }\n",
              "\n",
              "    [theme=dark] .colab-df-convert:hover {\n",
              "      background-color: #434B5C;\n",
              "      box-shadow: 0px 1px 3px 1px rgba(0, 0, 0, 0.15);\n",
              "      filter: drop-shadow(0px 1px 2px rgba(0, 0, 0, 0.3));\n",
              "      fill: #FFFFFF;\n",
              "    }\n",
              "  </style>\n",
              "\n",
              "    <script>\n",
              "      const buttonEl =\n",
              "        document.querySelector('#df-4cdd9138-f53c-4834-99cd-dbb7a2809481 button.colab-df-convert');\n",
              "      buttonEl.style.display =\n",
              "        google.colab.kernel.accessAllowed ? 'block' : 'none';\n",
              "\n",
              "      async function convertToInteractive(key) {\n",
              "        const element = document.querySelector('#df-4cdd9138-f53c-4834-99cd-dbb7a2809481');\n",
              "        const dataTable =\n",
              "          await google.colab.kernel.invokeFunction('convertToInteractive',\n",
              "                                                    [key], {});\n",
              "        if (!dataTable) return;\n",
              "\n",
              "        const docLinkHtml = 'Like what you see? Visit the ' +\n",
              "          '<a target=\"_blank\" href=https://colab.research.google.com/notebooks/data_table.ipynb>data table notebook</a>'\n",
              "          + ' to learn more about interactive tables.';\n",
              "        element.innerHTML = '';\n",
              "        dataTable['output_type'] = 'display_data';\n",
              "        await google.colab.output.renderOutput(dataTable, element);\n",
              "        const docLink = document.createElement('div');\n",
              "        docLink.innerHTML = docLinkHtml;\n",
              "        element.appendChild(docLink);\n",
              "      }\n",
              "    </script>\n",
              "  </div>\n",
              "\n",
              "\n",
              "    </div>\n",
              "  </div>\n"
            ],
            "application/vnd.google.colaboratory.intrinsic+json": {
              "type": "dataframe",
              "summary": "{\n  \"name\": \"data_f = data_f\",\n  \"rows\": 1,\n  \"fields\": [\n    {\n      \"column\": \"a\",\n      \"properties\": {\n        \"dtype\": \"number\",\n        \"std\": null,\n        \"min\": 1.2798135947985179,\n        \"max\": 1.2798135947985179,\n        \"num_unique_values\": 1,\n        \"samples\": [\n          1.2798135947985179\n        ],\n        \"semantic_type\": \"\",\n        \"description\": \"\"\n      }\n    },\n    {\n      \"column\": \"b\",\n      \"properties\": {\n        \"dtype\": \"number\",\n        \"std\": null,\n        \"min\": 1.4098159793524974,\n        \"max\": 1.4098159793524974,\n        \"num_unique_values\": 1,\n        \"samples\": [\n          1.4098159793524974\n        ],\n        \"semantic_type\": \"\",\n        \"description\": \"\"\n      }\n    },\n    {\n      \"column\": \"c\",\n      \"properties\": {\n        \"dtype\": \"number\",\n        \"std\": null,\n        \"min\": 1.0318690996613293,\n        \"max\": 1.0318690996613293,\n        \"num_unique_values\": 1,\n        \"samples\": [\n          1.0318690996613293\n        ],\n        \"semantic_type\": \"\",\n        \"description\": \"\"\n      }\n    },\n    {\n      \"column\": \"d\",\n      \"properties\": {\n        \"dtype\": \"number\",\n        \"std\": null,\n        \"min\": 1.8066488792659219,\n        \"max\": 1.8066488792659219,\n        \"num_unique_values\": 1,\n        \"samples\": [\n          1.8066488792659219\n        ],\n        \"semantic_type\": \"\",\n        \"description\": \"\"\n      }\n    },\n    {\n      \"column\": \"e\",\n      \"properties\": {\n        \"dtype\": \"number\",\n        \"std\": null,\n        \"min\": 1.1331095215854061,\n        \"max\": 1.1331095215854061,\n        \"num_unique_values\": 1,\n        \"samples\": [\n          1.1331095215854061\n        ],\n        \"semantic_type\": \"\",\n        \"description\": \"\"\n      }\n    },\n    {\n      \"column\": \"Mean\",\n      \"properties\": {\n        \"dtype\": \"number\",\n        \"std\": null,\n        \"min\": 1.3322514149327345,\n        \"max\": 1.3322514149327345,\n        \"num_unique_values\": 1,\n        \"samples\": [\n          1.3322514149327345\n        ],\n        \"semantic_type\": \"\",\n        \"description\": \"\"\n      }\n    }\n  ]\n}"
            }
          },
          "metadata": {}
        }
      ]
    },
    {
      "cell_type": "markdown",
      "source": [
        "\n",
        "\n",
        "---\n",
        "\n"
      ],
      "metadata": {
        "id": "PHFRngrs0V4i"
      }
    },
    {
      "cell_type": "markdown",
      "source": [
        "Ans 11)"
      ],
      "metadata": {
        "id": "nt8XDT0t0QkI"
      }
    },
    {
      "cell_type": "code",
      "source": [
        "data_f['f'] = data_f['a']+data_f['b']+data_f['c']+data_f['d']+data_f['e']\n",
        "data_f['g'] = ['LT8' if x<8 else 'GT8' for x in data_f['f']]\n",
        "print(data_f)\n",
        "print()\n",
        "\n",
        "cnt = len(data_f[data_f['g']=='LT8'])\n",
        "print('The number of rows with Sum value being less than 8 are:',cnt)\n",
        "L_stddev = data_f['f'][data_f['g']=='LT8'].std()\n",
        "print('The standard deviation for the LT8 values is:',L_stddev)\n",
        "G_stddev = data_f['f'][data_f['g']=='GT8'].std()\n",
        "print('The standard deviation for the GT8 values is:',G_stddev)"
      ],
      "metadata": {
        "colab": {
          "base_uri": "https://localhost:8080/"
        },
        "id": "UgMUsX24Hb84",
        "outputId": "a5dbe0df-84f7-454b-d964-acb48aa9c26b"
      },
      "execution_count": null,
      "outputs": [
        {
          "output_type": "stream",
          "name": "stdout",
          "text": [
            "           a         b         c         d         e         f    g\n",
            "0   1.815610  1.964045  1.163443  1.212062  1.782137  7.937297  LT8\n",
            "1   1.279814  1.409816  1.031869  1.806649  1.133110  6.661257  LT8\n",
            "2   1.561457  1.569980  1.651514  1.974457  1.978701  8.736109  GT8\n",
            "3   1.959218  1.426256  1.623035  1.824527  1.734347  8.567383  GT8\n",
            "4   1.383635  1.000645  1.901719  1.331563  1.716495  7.334057  LT8\n",
            "5   1.324596  1.761399  1.501180  1.472346  1.020641  7.080162  LT8\n",
            "6   1.276796  1.246843  1.290898  1.945914  1.383322  7.143773  LT8\n",
            "7   1.343004  1.171264  1.230934  1.973793  1.364223  7.083218  LT8\n",
            "8   1.823295  1.916311  1.612182  1.244406  1.443172  8.039366  GT8\n",
            "9   1.781886  1.675934  1.629994  1.288508  1.160581  7.536903  LT8\n",
            "10  1.702629  1.136094  1.046976  1.250268  1.744667  6.880634  LT8\n",
            "11  1.651280  1.796377  1.126155  1.122682  1.910933  7.607427  LT8\n",
            "12  1.407615  1.481061  1.380599  1.727505  1.921154  7.917933  LT8\n",
            "13  1.410765  1.037802  1.410825  1.267157  1.924253  7.050801  LT8\n",
            "14  1.326510  1.390687  1.418498  1.361987  1.493924  6.991605  LT8\n",
            "15  1.544486  1.526005  1.521545  1.660177  1.663343  7.915556  LT8\n",
            "16  1.144288  1.927013  1.257151  1.831091  1.176052  7.335596  LT8\n",
            "17  1.214266  1.886109  1.560693  1.541153  1.576269  7.778490  LT8\n",
            "18  1.935191  1.354081  1.278407  1.257543  1.230532  7.055754  LT8\n",
            "19  1.971702  1.732383  1.279340  1.107950  1.751071  7.842446  LT8\n",
            "\n",
            "The number of rows with Sum value being less than 8 are: 17\n",
            "The standard deviation for the LT8 values is: 0.4106702461288194\n",
            "The standard deviation for the GT8 values is: 0.363483541478035\n"
          ]
        }
      ]
    },
    {
      "cell_type": "markdown",
      "source": [
        "\n",
        "\n",
        "---\n",
        "\n"
      ],
      "metadata": {
        "id": "idS6PpKj8VLr"
      }
    },
    {
      "cell_type": "markdown",
      "source": [
        "Ans 12) Broadcasting is a term used in the context of numpy array. It facilitates us with operations on arrays by looping in C language instead of Python. It does this by vectorising array operations. It helps us improving the runtime."
      ],
      "metadata": {
        "id": "1_U6WYPm8V5h"
      }
    },
    {
      "cell_type": "code",
      "source": [
        "import numpy as np\n",
        "\n",
        "arr1 = np.array([[1,2,3],[2,3,4],[3,4,5]])\n",
        "arr2 = [3,2,1]\n",
        "arr0 = arr1 + arr2 #Adding [3,2,1] in arr2, to corresponding values of each row of arr1.\n",
        "print(arr0)"
      ],
      "metadata": {
        "colab": {
          "base_uri": "https://localhost:8080/"
        },
        "id": "7XSkcsZGqCfw",
        "outputId": "64078007-31df-475e-d1da-eba31c58d2c9"
      },
      "execution_count": null,
      "outputs": [
        {
          "output_type": "stream",
          "name": "stdout",
          "text": [
            "[[4 4 4]\n",
            " [5 5 5]\n",
            " [6 6 6]]\n"
          ]
        }
      ]
    },
    {
      "cell_type": "markdown",
      "source": [
        "\n",
        "\n",
        "---\n",
        "\n"
      ],
      "metadata": {
        "id": "Yeu0kSdR8Yms"
      }
    },
    {
      "cell_type": "markdown",
      "source": [
        "Ans 13)"
      ],
      "metadata": {
        "id": "-G1ajlin8ZSN"
      }
    },
    {
      "cell_type": "code",
      "source": [
        "import numpy as np\n",
        "\n",
        "n = int(input(\"Enter the no. of rows: \"))\n",
        "m = int(input(\"Enter the no. of columns: \"))\n",
        "arr = np.array([input().strip().split() for _ in range(n)], float)\n",
        "# print (arr)\n",
        "\n",
        "mini = 1000000\n",
        "for i in range (n):\n",
        "  for j in range (m):\n",
        "    if arr[i][j] < mini:\n",
        "      mini = arr[i][j]\n",
        "      ind = (i,j)\n",
        "\n",
        "# Here, the question asks the index of the min value, so ans is given considering indexing from 0\n",
        "# If u want indexing from 1, then set ind = (i+1,j+1)\n",
        "\n",
        "print (ind)"
      ],
      "metadata": {
        "id": "sTr6_iwraF4z",
        "colab": {
          "base_uri": "https://localhost:8080/"
        },
        "outputId": "a5f41783-8723-4e84-8509-b89dda9559ab"
      },
      "execution_count": null,
      "outputs": [
        {
          "output_type": "stream",
          "name": "stdout",
          "text": [
            "Enter the no. of rows: 3\n",
            "Enter the no. of columns: 4\n",
            "2.3 3.4 6.0 9.2\n",
            "7.8 8.2 3.3 6\n",
            "1.3 4.6 0.8 77\n",
            "(2, 2)\n"
          ]
        }
      ]
    },
    {
      "cell_type": "code",
      "source": [
        "# Verifying using argmin\n",
        "\n",
        "x0 = (np.argmin(arr))\n",
        "i1 = int(x0//m)\n",
        "j1 = x0%m\n",
        "print((i1,j1))"
      ],
      "metadata": {
        "colab": {
          "base_uri": "https://localhost:8080/"
        },
        "id": "f9vKl_85a6p9",
        "outputId": "730c9e19-efb2-4823-d76c-a84905f60409"
      },
      "execution_count": null,
      "outputs": [
        {
          "output_type": "stream",
          "name": "stdout",
          "text": [
            "(2, 2)\n"
          ]
        }
      ]
    }
  ]
}